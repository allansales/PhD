{
 "cells": [
  {
   "cell_type": "code",
   "execution_count": 1,
   "metadata": {
    "collapsed": false
   },
   "outputs": [],
   "source": [
    "import sys\n",
    "reload(sys)\n",
    "sys.setdefaultencoding('utf8')\n",
    "\n",
    "import pandas as pd # provide sql-like data manipulation tools. very handy.\n",
    "pd.options.mode.chained_assignment = None\n",
    "import numpy as np # high dimensional vector computing library.\n",
    "from copy import deepcopy\n",
    "from string import punctuation\n",
    "from random import shuffle\n",
    "\n",
    "import gensim\n",
    "from gensim.models.word2vec import Word2Vec # the word2vec model gensim class\n",
    "LabeledSentence = gensim.models.doc2vec.LabeledSentence # we'll talk about this down below\n",
    "\n",
    "from tqdm import tqdm\n",
    "tqdm.pandas(desc=\"progress-bar\")\n",
    "\n",
    "import nltk\n",
    "\n",
    "from sklearn.feature_extraction.text import TfidfVectorizer\n",
    "from sklearn.model_selection import train_test_split\n",
    "\n",
    "import pymongo\n",
    "import pandas as pd\n",
    "from pymongo import MongoClient"
   ]
  },
  {
   "cell_type": "code",
   "execution_count": 2,
   "metadata": {
    "collapsed": false
   },
   "outputs": [
    {
     "data": {
      "text/html": [
       "<div>\n",
       "<table border=\"1\" class=\"dataframe\">\n",
       "  <thead>\n",
       "    <tr style=\"text-align: right;\">\n",
       "      <th></th>\n",
       "      <th>_id</th>\n",
       "      <th>conteudo</th>\n",
       "      <th>emissor</th>\n",
       "      <th>idNoticia</th>\n",
       "      <th>repercussao</th>\n",
       "      <th>subFonte</th>\n",
       "      <th>subTitulo</th>\n",
       "      <th>timestamp</th>\n",
       "      <th>titulo</th>\n",
       "      <th>url</th>\n",
       "    </tr>\n",
       "  </thead>\n",
       "  <tbody>\n",
       "    <tr>\n",
       "      <th>0</th>\n",
       "      <td>59398bc80c0adb20e4fe72c7</td>\n",
       "      <td>A exemplo do que faz agora o governo de Michel...</td>\n",
       "      <td>DE SÃO PAULO</td>\n",
       "      <td>FOLHASP-1887182</td>\n",
       "      <td>7</td>\n",
       "      <td>FOLHASP</td>\n",
       "      <td></td>\n",
       "      <td>1495666440</td>\n",
       "      <td>Dilma também acionou militares contra protesto...</td>\n",
       "      <td>http://www1.folha.uol.com.br/poder/2017/05/188...</td>\n",
       "    </tr>\n",
       "    <tr>\n",
       "      <th>1</th>\n",
       "      <td>59398bca0c0adb20e4fe730f</td>\n",
       "      <td>O protesto organizado por centrais sindicais e...</td>\n",
       "      <td>LUCAS VETTORAZZO ANGELA BOLDRINI RUBENS VALENT...</td>\n",
       "      <td>FOLHASP-1887139</td>\n",
       "      <td>71</td>\n",
       "      <td>FOLHASP</td>\n",
       "      <td></td>\n",
       "      <td>1495658640</td>\n",
       "      <td>Protesto em Brasília termina com 49 feridos, 8...</td>\n",
       "      <td>http://www1.folha.uol.com.br/poder/2017/05/188...</td>\n",
       "    </tr>\n",
       "    <tr>\n",
       "      <th>2</th>\n",
       "      <td>59398bca0c0adb20e4fe7315</td>\n",
       "      <td>O governador do Distrito Federal, Rodrigo Roll...</td>\n",
       "      <td>LAÍS ALEGRETTI DE BRASÍLIA</td>\n",
       "      <td>FOLHASP-1887134</td>\n",
       "      <td>5</td>\n",
       "      <td>FOLHASP</td>\n",
       "      <td></td>\n",
       "      <td>1495657560</td>\n",
       "      <td>'Medida extrema', uso do Exército não teve anu...</td>\n",
       "      <td>http://www1.folha.uol.com.br/poder/2017/05/188...</td>\n",
       "    </tr>\n",
       "    <tr>\n",
       "      <th>3</th>\n",
       "      <td>59398bcb0c0adb20e4fe732e</td>\n",
       "      <td>Policiais militares do Distrito Federal utiliz...</td>\n",
       "      <td>ANGELA BOLDRINI LUCAS VETTORAZZO PEDRO LADEIRA...</td>\n",
       "      <td>FOLHASP-1887121</td>\n",
       "      <td>24</td>\n",
       "      <td>FOLHASP</td>\n",
       "      <td></td>\n",
       "      <td>1495656540</td>\n",
       "      <td>Manifestante é baleado com armamento letal em ...</td>\n",
       "      <td>http://www1.folha.uol.com.br/poder/2017/05/188...</td>\n",
       "    </tr>\n",
       "    <tr>\n",
       "      <th>4</th>\n",
       "      <td>59398bcc0c0adb20e4fe7366</td>\n",
       "      <td>Em nota publicada no início da noite desta qua...</td>\n",
       "      <td>DE SÃO PAULO</td>\n",
       "      <td>FOLHASP-1887117</td>\n",
       "      <td>55</td>\n",
       "      <td>FOLHASP</td>\n",
       "      <td></td>\n",
       "      <td>1495654680</td>\n",
       "      <td>Convocação do Exército remete aos 'anos de chu...</td>\n",
       "      <td>http://www1.folha.uol.com.br/poder/2017/05/188...</td>\n",
       "    </tr>\n",
       "  </tbody>\n",
       "</table>\n",
       "</div>"
      ],
      "text/plain": [
       "                        _id  \\\n",
       "0  59398bc80c0adb20e4fe72c7   \n",
       "1  59398bca0c0adb20e4fe730f   \n",
       "2  59398bca0c0adb20e4fe7315   \n",
       "3  59398bcb0c0adb20e4fe732e   \n",
       "4  59398bcc0c0adb20e4fe7366   \n",
       "\n",
       "                                            conteudo  \\\n",
       "0  A exemplo do que faz agora o governo de Michel...   \n",
       "1  O protesto organizado por centrais sindicais e...   \n",
       "2  O governador do Distrito Federal, Rodrigo Roll...   \n",
       "3  Policiais militares do Distrito Federal utiliz...   \n",
       "4  Em nota publicada no início da noite desta qua...   \n",
       "\n",
       "                                             emissor        idNoticia  \\\n",
       "0                                       DE SÃO PAULO  FOLHASP-1887182   \n",
       "1  LUCAS VETTORAZZO ANGELA BOLDRINI RUBENS VALENT...  FOLHASP-1887139   \n",
       "2                         LAÍS ALEGRETTI DE BRASÍLIA  FOLHASP-1887134   \n",
       "3  ANGELA BOLDRINI LUCAS VETTORAZZO PEDRO LADEIRA...  FOLHASP-1887121   \n",
       "4                                       DE SÃO PAULO  FOLHASP-1887117   \n",
       "\n",
       "  repercussao subFonte subTitulo   timestamp  \\\n",
       "0           7  FOLHASP            1495666440   \n",
       "1          71  FOLHASP            1495658640   \n",
       "2           5  FOLHASP            1495657560   \n",
       "3          24  FOLHASP            1495656540   \n",
       "4          55  FOLHASP            1495654680   \n",
       "\n",
       "                                              titulo  \\\n",
       "0  Dilma também acionou militares contra protesto...   \n",
       "1  Protesto em Brasília termina com 49 feridos, 8...   \n",
       "2  'Medida extrema', uso do Exército não teve anu...   \n",
       "3  Manifestante é baleado com armamento letal em ...   \n",
       "4  Convocação do Exército remete aos 'anos de chu...   \n",
       "\n",
       "                                                 url  \n",
       "0  http://www1.folha.uol.com.br/poder/2017/05/188...  \n",
       "1  http://www1.folha.uol.com.br/poder/2017/05/188...  \n",
       "2  http://www1.folha.uol.com.br/poder/2017/05/188...  \n",
       "3  http://www1.folha.uol.com.br/poder/2017/05/188...  \n",
       "4  http://www1.folha.uol.com.br/poder/2017/05/188...  "
      ]
     },
     "execution_count": 2,
     "metadata": {},
     "output_type": "execute_result"
    }
   ],
   "source": [
    "client = MongoClient()\n",
    "db = client.stocks\n",
    "\n",
    "input_data_estadao = db.estadaoNoticias\n",
    "input_data_folha = db.folhaNoticias\n",
    "\n",
    "data_estadao = pd.DataFrame(list(input_data_estadao.find()))\n",
    "data_folha = pd.DataFrame(list(input_data_folha.find()))\n",
    "\n",
    "data_estadao.head()\n",
    "data_folha.head()"
   ]
  },
  {
   "cell_type": "code",
   "execution_count": 3,
   "metadata": {
    "collapsed": true
   },
   "outputs": [],
   "source": [
    "#.decode('utf-8')\n",
    "def tokenize(text):\n",
    "    try:\n",
    "        text = text.lower()\n",
    "        tokens = nltk.word_tokenize(text)\n",
    "        #tokens = filter(lambda t: not t.startswith('@'), tokens)\n",
    "        #tokens = filter(lambda t: not t.startswith('#'), tokens)\n",
    "        #tokens = filter(lambda t: not t.startswith('http'), tokens)\n",
    "        return tokens\n",
    "    except:\n",
    "        return 'NC'"
   ]
  },
  {
   "cell_type": "code",
   "execution_count": 4,
   "metadata": {
    "collapsed": false,
    "scrolled": true
   },
   "outputs": [],
   "source": [
    "def postprocess(data, n=100):\n",
    "    #data = data.head(n)\n",
    "    data['tokens'] = data['conteudo'].progress_map(tokenize)  ## progress_map is a variant of the map function plus a progress bar. Handy to monitor DataFrame creations.\n",
    "    data = data[data.tokens != 'NC']\n",
    "    data.reset_index(inplace=True)\n",
    "    data.drop('index', inplace=True, axis=1)\n",
    "    return data\n",
    "\n",
    "data_estadao = postprocess(data_estadao)\n",
    "data_folha = postprocess(data_folha)"
   ]
  },
  {
   "cell_type": "code",
   "execution_count": 5,
   "metadata": {
    "collapsed": false
   },
   "outputs": [],
   "source": [
    "n_dim = 300"
   ]
  },
  {
   "cell_type": "code",
   "execution_count": 6,
   "metadata": {
    "collapsed": false
   },
   "outputs": [],
   "source": [
    "estadao_x_train, estadao_x_test, estadao_y_train, estadao_y_test = train_test_split(np.array(data_estadao.tokens),\n",
    "                                                    np.array(data_estadao.conteudo), test_size=0.2)\n",
    "\n",
    "folha_x_train, folha_x_test, folha_y_train, folha_y_test = train_test_split(np.array(data_estadao.tokens),\n",
    "                                                    np.array(data_estadao.conteudo), test_size=0.2)"
   ]
  },
  {
   "cell_type": "code",
   "execution_count": null,
   "metadata": {
    "collapsed": false
   },
   "outputs": [],
   "source": [
    "def labelizeTweets(tweets, label_type):\n",
    "    labelized = []\n",
    "    for i,v in tqdm(enumerate(tweets)):\n",
    "        label = '%s_%s'%(label_type,i)\n",
    "        labelized.append(LabeledSentence(v, [label]))\n",
    "    return labelized\n",
    "\n",
    "estadao_x_train = labelizeTweets(estadao_x_train, 'TRAIN')\n",
    "#x_test = labelizeTweets(x_test, 'TEST')\n",
    "\n",
    "folha_x_train = labelizeTweets(folha_x_train, 'TRAIN')\n",
    "#x_test = labelizeTweets(x_test, 'TEST')\n"
   ]
  },
  {
   "cell_type": "code",
   "execution_count": null,
   "metadata": {
    "collapsed": false
   },
   "outputs": [],
   "source": [
    "estadao_word2vec = Word2Vec(size=n_dim, min_count=10)\n",
    "estadao_word2vec.build_vocab([x.words for x in tqdm(estadao_x_train)])\n",
    "estadao_word2vec.train([x.words for x in tqdm(estadao_x_train)], total_examples=estadao_word2vec.corpus_count, epochs=estadao_word2vec.iter)\n",
    "\n",
    "folha_word2vec = Word2Vec(size=n_dim, min_count=10)\n",
    "folha_word2vec.build_vocab([x.words for x in tqdm(folha_x_train)])\n",
    "folha_word2vec.train([x.words for x in tqdm(folha_x_train)], total_examples=folha_word2vec.corpus_count, epochs=folha_word2vec.iter)\n"
   ]
  },
  {
   "cell_type": "code",
   "execution_count": null,
   "metadata": {
    "collapsed": false,
    "scrolled": true
   },
   "outputs": [],
   "source": [
    "estadao_word2vec.most_similar(\"gay\")"
   ]
  },
  {
   "cell_type": "code",
   "execution_count": 40,
   "metadata": {
    "collapsed": false
   },
   "outputs": [
    {
     "data": {
      "text/plain": [
       "[(u'gay', 0.5766882300376892),\n",
       " (u'aborto', 0.5760660767555237),\n",
       " (u'casamento', 0.5567106604576111),\n",
       " (u'homof\\xf3bico', 0.5503756403923035),\n",
       " (u'racista', 0.5388685464859009),\n",
       " (u'preconceito', 0.5338813662528992),\n",
       " (u'homossexualidade', 0.4838162362575531),\n",
       " (u'ignorante', 0.4747411608695984),\n",
       " (u'homossexuais', 0.4683874845504761),\n",
       " (u'religiosa', 0.4627786874771118)]"
      ]
     },
     "execution_count": 40,
     "metadata": {},
     "output_type": "execute_result"
    }
   ],
   "source": [
    "estadao_word2vec.most_similar(\"homossexual\")"
   ]
  },
  {
   "cell_type": "code",
   "execution_count": 41,
   "metadata": {
    "collapsed": false
   },
   "outputs": [
    {
     "data": {
      "text/plain": [
       "[(u'kit', 0.6854844093322754),\n",
       " (u'anti-homofobia', 0.6581751108169556),\n",
       " (u'homossexual', 0.6365687847137451),\n",
       " (u'maconha', 0.6100272536277771),\n",
       " (u'aborto', 0.6005829572677612),\n",
       " (u'homofobia', 0.5945218801498413),\n",
       " (u'lgbt', 0.5925257205963135),\n",
       " (u'legaliza\\xe7\\xe3o', 0.5647957921028137),\n",
       " (u'descriminaliza\\xe7\\xe3o', 0.5590815544128418),\n",
       " (u'feminista', 0.5416308045387268)]"
      ]
     },
     "execution_count": 41,
     "metadata": {},
     "output_type": "execute_result"
    }
   ],
   "source": [
    "folha_word2vec.most_similar(\"gay\")"
   ]
  },
  {
   "cell_type": "code",
   "execution_count": 42,
   "metadata": {
    "collapsed": false,
    "scrolled": true
   },
   "outputs": [
    {
     "data": {
      "text/plain": [
       "[(u'gay', 0.6365687847137451),\n",
       " (u'preconceito', 0.5623294115066528),\n",
       " (u'aborto', 0.5586243867874146),\n",
       " (u'casamento', 0.53482586145401),\n",
       " (u'homof\\xf3bico', 0.5249391794204712),\n",
       " (u'racista', 0.5217532515525818),\n",
       " (u'homossexuais', 0.5212612152099609),\n",
       " (u'racismo', 0.5107216835021973),\n",
       " (u'discriminat\\xf3rio', 0.5000503659248352),\n",
       " (u'maconha', 0.4920646846294403)]"
      ]
     },
     "execution_count": 42,
     "metadata": {},
     "output_type": "execute_result"
    }
   ],
   "source": [
    "folha_word2vec.most_similar(\"homossexual\")"
   ]
  },
  {
   "cell_type": "code",
   "execution_count": 35,
   "metadata": {
    "collapsed": false
   },
   "outputs": [
    {
     "data": {
      "text/plain": [
       "[(u'janeiro/rj', 0.5468244552612305),\n",
       " (u'paraty', 0.5260704755783081),\n",
       " (u'ipanema', 0.5153312683105469),\n",
       " (u'areia', 0.5045171976089478),\n",
       " (u'niter\\xf3i', 0.4898533225059509),\n",
       " (u'doce', 0.4682314991950989),\n",
       " (u'florian\\xf3polis', 0.4555416703224182),\n",
       " (u'cristo', 0.4485395848751068),\n",
       " (u'nulo', 0.43999797105789185),\n",
       " (u'preto', 0.43848860263824463)]"
      ]
     },
     "execution_count": 35,
     "metadata": {},
     "output_type": "execute_result"
    }
   ],
   "source": [
    "estadao_word2vec.most_similar(\"branco\")"
   ]
  },
  {
   "cell_type": "code",
   "execution_count": 34,
   "metadata": {
    "collapsed": false
   },
   "outputs": [
    {
     "data": {
      "text/plain": [
       "[(u'janeiro/rj', 0.5468244552612305),\n",
       " (u'paraty', 0.5260704755783081),\n",
       " (u'ipanema', 0.5153312683105469),\n",
       " (u'areia', 0.5045171976089478),\n",
       " (u'niter\\xf3i', 0.4898533225059509),\n",
       " (u'doce', 0.4682314991950989),\n",
       " (u'florian\\xf3polis', 0.4555416703224182),\n",
       " (u'cristo', 0.4485395848751068),\n",
       " (u'nulo', 0.43999797105789185),\n",
       " (u'preto', 0.43848860263824463)]"
      ]
     },
     "execution_count": 34,
     "metadata": {},
     "output_type": "execute_result"
    }
   ],
   "source": [
    "estadao_word2vec.most_similar(\"branco\")"
   ]
  },
  {
   "cell_type": "code",
   "execution_count": 32,
   "metadata": {
    "collapsed": false,
    "scrolled": false
   },
   "outputs": [
    {
     "data": {
      "text/plain": [
       "[(u'oper\\xe1rio', 0.6695019006729126),\n",
       " (u'revolucion\\xe1rio', 0.5380944013595581),\n",
       " (u'jogador', 0.5246587991714478),\n",
       " (u'comunista', 0.5224142074584961),\n",
       " (u'ditador', 0.5202620625495911),\n",
       " (u'comunismo', 0.5068507194519043),\n",
       " (u'guerrilheiro', 0.504123330116272),\n",
       " (u'sindicalismo', 0.49361711740493774),\n",
       " (u'judeu', 0.4928639531135559),\n",
       " (u'clandestino', 0.4919804334640503)]"
      ]
     },
     "execution_count": 32,
     "metadata": {},
     "output_type": "execute_result"
    }
   ],
   "source": [
    "folha_word2vec.most_similar(\"negro\")"
   ]
  },
  {
   "cell_type": "code",
   "execution_count": 33,
   "metadata": {
    "collapsed": false
   },
   "outputs": [
    {
     "data": {
      "text/plain": [
       "[(u'doce', 0.5055692791938782),\n",
       " (u'copacabana', 0.49736350774765015),\n",
       " (u'areia', 0.492209792137146),\n",
       " (u'ipanema', 0.4825515151023865),\n",
       " (u'bonito', 0.47059184312820435),\n",
       " (u'florian\\xf3polis', 0.4678967595100403),\n",
       " (u'bangu', 0.45894283056259155),\n",
       " (u'bel\\xe9m', 0.457760214805603),\n",
       " (u'niter\\xf3i', 0.44850626587867737),\n",
       " (u'xingu', 0.44001996517181396)]"
      ]
     },
     "execution_count": 33,
     "metadata": {},
     "output_type": "execute_result"
    }
   ],
   "source": [
    "folha_word2vec.most_similar(\"branco\")"
   ]
  },
  {
   "cell_type": "code",
   "execution_count": 31,
   "metadata": {
    "collapsed": false,
    "scrolled": true
   },
   "outputs": [
    {
     "data": {
      "text/plain": [
       "[(u'm\\xe3e', 0.6767886281013489),\n",
       " (u'esposa', 0.6735522150993347),\n",
       " (u'filha', 0.6537207365036011),\n",
       " (u'amiga', 0.6239906549453735),\n",
       " (u'primeira-dama', 0.6065464019775391),\n",
       " (u'av\\xf3', 0.6048905849456787),\n",
       " (u'irm\\xe3', 0.6046347618103027),\n",
       " (u'dama', 0.5851244330406189),\n",
       " (u'companheira', 0.5654486417770386),\n",
       " (u'namorada', 0.5650165677070618)]"
      ]
     },
     "execution_count": 31,
     "metadata": {},
     "output_type": "execute_result"
    }
   ],
   "source": [
    "folha_word2vec.most_similar(\"mulher\")"
   ]
  },
  {
   "cell_type": "code",
   "execution_count": 30,
   "metadata": {
    "collapsed": false
   },
   "outputs": [
    {
     "data": {
      "text/plain": [
       "[(u'estadista', 0.580707848072052),\n",
       " (u'abra\\xe7o', 0.5796175003051758),\n",
       " (u'rapaz', 0.5783818960189819),\n",
       " (u'pensador', 0.5630857348442078),\n",
       " (u'amigo', 0.5576744675636292),\n",
       " (u'administrador', 0.5552319288253784),\n",
       " (u'soldado', 0.5533406734466553),\n",
       " (u'menino', 0.5510196089744568),\n",
       " (u'funcion\\xe1rio', 0.5487581491470337),\n",
       " (u'jogador', 0.5408045649528503)]"
      ]
     },
     "execution_count": 30,
     "metadata": {},
     "output_type": "execute_result"
    }
   ],
   "source": [
    "folha_word2vec.most_similar(\"homem\")"
   ]
  },
  {
   "cell_type": "code",
   "execution_count": 29,
   "metadata": {
    "collapsed": false
   },
   "outputs": [
    {
     "data": {
      "text/plain": [
       "[(u'esposa', 0.6920737028121948),\n",
       " (u'm\\xe3e', 0.6857017278671265),\n",
       " (u'filha', 0.6713874340057373),\n",
       " (u'irm\\xe3', 0.633479654788971),\n",
       " (u'namorada', 0.614106297492981),\n",
       " (u'amiga', 0.604663610458374),\n",
       " (u'av\\xf3', 0.5999443531036377),\n",
       " (u'primeira-dama', 0.5966878533363342),\n",
       " (u'dama', 0.5859726071357727),\n",
       " (u'ex-mulher', 0.5759395360946655)]"
      ]
     },
     "execution_count": 29,
     "metadata": {},
     "output_type": "execute_result"
    }
   ],
   "source": [
    "estadao_word2vec.most_similar(\"mulher\")"
   ]
  },
  {
   "cell_type": "code",
   "execution_count": 28,
   "metadata": {
    "collapsed": false
   },
   "outputs": [
    {
     "data": {
      "text/plain": [
       "[(u'estadista', 0.6457992792129517),\n",
       " (u'menino', 0.5838231444358826),\n",
       " (u'lutador', 0.5796926021575928),\n",
       " (u'rapaz', 0.5656730532646179),\n",
       " (u'abra\\xe7o', 0.560944676399231),\n",
       " (u'amigo', 0.5564925074577332),\n",
       " (u'soldado', 0.551363468170166),\n",
       " (u'funcion\\xe1rio', 0.5411416292190552),\n",
       " (u'g\\xeanio', 0.5387078523635864),\n",
       " (u'gestor', 0.5334969758987427)]"
      ]
     },
     "execution_count": 28,
     "metadata": {},
     "output_type": "execute_result"
    }
   ],
   "source": [
    "estadao_word2vec.most_similar(\"homem\")"
   ]
  },
  {
   "cell_type": "code",
   "execution_count": 26,
   "metadata": {
    "collapsed": false,
    "scrolled": false
   },
   "outputs": [
    {
     "data": {
      "text/plain": [
       "[(u'ele', 0.7416077852249146),\n",
       " (u'ningu\\xe9m', 0.539893627166748),\n",
       " (u'voc\\xea', 0.5280378460884094),\n",
       " (u'algu\\xe9m', 0.5206277966499329),\n",
       " (u'marina', 0.5202836394309998),\n",
       " (u'gente', 0.5014085173606873),\n",
       " (u'quem', 0.4936975836753845),\n",
       " (u'dela', 0.46034401655197144),\n",
       " (u'sra', 0.4562416672706604),\n",
       " (u'aquilo', 0.45602965354919434)]"
      ]
     },
     "execution_count": 26,
     "metadata": {},
     "output_type": "execute_result"
    }
   ],
   "source": [
    "folha_word2vec.most_similar(\"ela\")"
   ]
  },
  {
   "cell_type": "code",
   "execution_count": 27,
   "metadata": {
    "collapsed": false
   },
   "outputs": [
    {
     "data": {
      "text/plain": [
       "[(u'ela', 0.7416078448295593),\n",
       " (u'algu\\xe9m', 0.5628678202629089),\n",
       " (u'ningu\\xe9m', 0.5409524440765381),\n",
       " (u'quem', 0.5180811285972595),\n",
       " (u'voc\\xea', 0.48269379138946533),\n",
       " (u'peemedebista', 0.4629306197166443),\n",
       " (u'gente', 0.45480236411094666),\n",
       " (u'mim', 0.4464748501777649),\n",
       " (u'senhor', 0.4436030387878418),\n",
       " (u'aquilo', 0.4421740174293518)]"
      ]
     },
     "execution_count": 27,
     "metadata": {},
     "output_type": "execute_result"
    }
   ],
   "source": [
    "folha_word2vec.most_similar(\"ele\")"
   ]
  },
  {
   "cell_type": "code",
   "execution_count": 13,
   "metadata": {
    "collapsed": false
   },
   "outputs": [
    {
     "data": {
      "text/html": [
       "\n",
       "    <div class=\"bk-root\">\n",
       "        <a href=\"http://bokeh.pydata.org\" target=\"_blank\" class=\"bk-logo bk-logo-small bk-logo-notebook\"></a>\n",
       "        <span id=\"40ae9b9e-b55f-4c8e-956f-337d9cab2337\">Loading BokehJS ...</span>\n",
       "    </div>"
      ]
     },
     "metadata": {},
     "output_type": "display_data"
    },
    {
     "data": {
      "application/javascript": [
       "\n",
       "(function(global) {\n",
       "  function now() {\n",
       "    return new Date();\n",
       "  }\n",
       "\n",
       "  var force = \"1\";\n",
       "\n",
       "  if (typeof (window._bokeh_onload_callbacks) === \"undefined\" || force !== \"\") {\n",
       "    window._bokeh_onload_callbacks = [];\n",
       "    window._bokeh_is_loading = undefined;\n",
       "  }\n",
       "\n",
       "\n",
       "  \n",
       "  if (typeof (window._bokeh_timeout) === \"undefined\" || force !== \"\") {\n",
       "    window._bokeh_timeout = Date.now() + 5000;\n",
       "    window._bokeh_failed_load = false;\n",
       "  }\n",
       "\n",
       "  var NB_LOAD_WARNING = {'data': {'text/html':\n",
       "     \"<div style='background-color: #fdd'>\\n\"+\n",
       "     \"<p>\\n\"+\n",
       "     \"BokehJS does not appear to have successfully loaded. If loading BokehJS from CDN, this \\n\"+\n",
       "     \"may be due to a slow or bad network connection. Possible fixes:\\n\"+\n",
       "     \"</p>\\n\"+\n",
       "     \"<ul>\\n\"+\n",
       "     \"<li>re-rerun `output_notebook()` to attempt to load from CDN again, or</li>\\n\"+\n",
       "     \"<li>use INLINE resources instead, as so:</li>\\n\"+\n",
       "     \"</ul>\\n\"+\n",
       "     \"<code>\\n\"+\n",
       "     \"from bokeh.resources import INLINE\\n\"+\n",
       "     \"output_notebook(resources=INLINE)\\n\"+\n",
       "     \"</code>\\n\"+\n",
       "     \"</div>\"}};\n",
       "\n",
       "  function display_loaded() {\n",
       "    if (window.Bokeh !== undefined) {\n",
       "      Bokeh.$(\"#40ae9b9e-b55f-4c8e-956f-337d9cab2337\").text(\"BokehJS successfully loaded.\");\n",
       "    } else if (Date.now() < window._bokeh_timeout) {\n",
       "      setTimeout(display_loaded, 100)\n",
       "    }\n",
       "  }\n",
       "\n",
       "  function run_callbacks() {\n",
       "    window._bokeh_onload_callbacks.forEach(function(callback) { callback() });\n",
       "    delete window._bokeh_onload_callbacks\n",
       "    console.info(\"Bokeh: all callbacks have finished\");\n",
       "  }\n",
       "\n",
       "  function load_libs(js_urls, callback) {\n",
       "    window._bokeh_onload_callbacks.push(callback);\n",
       "    if (window._bokeh_is_loading > 0) {\n",
       "      console.log(\"Bokeh: BokehJS is being loaded, scheduling callback at\", now());\n",
       "      return null;\n",
       "    }\n",
       "    if (js_urls == null || js_urls.length === 0) {\n",
       "      run_callbacks();\n",
       "      return null;\n",
       "    }\n",
       "    console.log(\"Bokeh: BokehJS not loaded, scheduling load and callback at\", now());\n",
       "    window._bokeh_is_loading = js_urls.length;\n",
       "    for (var i = 0; i < js_urls.length; i++) {\n",
       "      var url = js_urls[i];\n",
       "      var s = document.createElement('script');\n",
       "      s.src = url;\n",
       "      s.async = false;\n",
       "      s.onreadystatechange = s.onload = function() {\n",
       "        window._bokeh_is_loading--;\n",
       "        if (window._bokeh_is_loading === 0) {\n",
       "          console.log(\"Bokeh: all BokehJS libraries loaded\");\n",
       "          run_callbacks()\n",
       "        }\n",
       "      };\n",
       "      s.onerror = function() {\n",
       "        console.warn(\"failed to load library \" + url);\n",
       "      };\n",
       "      console.log(\"Bokeh: injecting script tag for BokehJS library: \", url);\n",
       "      document.getElementsByTagName(\"head\")[0].appendChild(s);\n",
       "    }\n",
       "  };var element = document.getElementById(\"40ae9b9e-b55f-4c8e-956f-337d9cab2337\");\n",
       "  if (element == null) {\n",
       "    console.log(\"Bokeh: ERROR: autoload.js configured with elementid '40ae9b9e-b55f-4c8e-956f-337d9cab2337' but no matching script tag was found. \")\n",
       "    return false;\n",
       "  }\n",
       "\n",
       "  var js_urls = ['https://cdn.pydata.org/bokeh/release/bokeh-0.12.2.min.js', 'https://cdn.pydata.org/bokeh/release/bokeh-widgets-0.12.2.min.js', 'https://cdn.pydata.org/bokeh/release/bokeh-compiler-0.12.2.min.js'];\n",
       "\n",
       "  var inline_js = [\n",
       "    function(Bokeh) {\n",
       "      Bokeh.set_log_level(\"info\");\n",
       "    },\n",
       "    \n",
       "    function(Bokeh) {\n",
       "      \n",
       "      Bokeh.$(\"#40ae9b9e-b55f-4c8e-956f-337d9cab2337\").text(\"BokehJS is loading...\");\n",
       "    },\n",
       "    function(Bokeh) {\n",
       "      console.log(\"Bokeh: injecting CSS: https://cdn.pydata.org/bokeh/release/bokeh-0.12.2.min.css\");\n",
       "      Bokeh.embed.inject_css(\"https://cdn.pydata.org/bokeh/release/bokeh-0.12.2.min.css\");\n",
       "      console.log(\"Bokeh: injecting CSS: https://cdn.pydata.org/bokeh/release/bokeh-widgets-0.12.2.min.css\");\n",
       "      Bokeh.embed.inject_css(\"https://cdn.pydata.org/bokeh/release/bokeh-widgets-0.12.2.min.css\");\n",
       "    }\n",
       "  ];\n",
       "\n",
       "  function run_inline_js() {\n",
       "    \n",
       "    if ((window.Bokeh !== undefined) || (force === \"1\")) {\n",
       "      for (var i = 0; i < inline_js.length; i++) {\n",
       "        inline_js[i](window.Bokeh);\n",
       "      }if (force === \"1\") {\n",
       "        display_loaded();\n",
       "      }} else if (Date.now() < window._bokeh_timeout) {\n",
       "      setTimeout(run_inline_js, 100);\n",
       "    } else if (!window._bokeh_failed_load) {\n",
       "      console.log(\"Bokeh: BokehJS failed to load within specified timeout.\");\n",
       "      window._bokeh_failed_load = true;\n",
       "    } else if (!force) {\n",
       "      var cell = $(\"#40ae9b9e-b55f-4c8e-956f-337d9cab2337\").parents('.cell').data().cell;\n",
       "      cell.output_area.append_execute_result(NB_LOAD_WARNING)\n",
       "    }\n",
       "\n",
       "  }\n",
       "\n",
       "  if (window._bokeh_is_loading === 0) {\n",
       "    console.log(\"Bokeh: BokehJS loaded, going straight to plotting\");\n",
       "    run_inline_js();\n",
       "  } else {\n",
       "    load_libs(js_urls, function() {\n",
       "      console.log(\"Bokeh: BokehJS plotting callback run at\", now());\n",
       "      run_inline_js();\n",
       "    });\n",
       "  }\n",
       "}(this));"
      ]
     },
     "metadata": {},
     "output_type": "display_data"
    },
    {
     "name": "stdout",
     "output_type": "stream",
     "text": [
      "[t-SNE] Computing pairwise distances...\n",
      "[t-SNE] Computing 91 nearest neighbors...\n",
      "[t-SNE] Computed conditional probabilities for sample 1000 / 5000\n",
      "[t-SNE] Computed conditional probabilities for sample 2000 / 5000\n",
      "[t-SNE] Computed conditional probabilities for sample 3000 / 5000\n",
      "[t-SNE] Computed conditional probabilities for sample 4000 / 5000\n",
      "[t-SNE] Computed conditional probabilities for sample 5000 / 5000\n",
      "[t-SNE] Mean sigma: 0.171422\n",
      "[t-SNE] KL divergence after 100 iterations with early exaggeration: 1.209544\n",
      "[t-SNE] Error after 325 iterations: 1.209544\n"
     ]
    },
    {
     "ename": "ValueError",
     "evalue": "expected an instance of type DataSource, got               x          y        words\n0     -9.082752  -5.392836      raining\n1     -4.783958   4.620254       yellow\n2     -3.205264  -6.151708         four\n3     -9.916620   3.989376        woods\n4     -8.508235  -1.975228      spiders\n5     -3.356022   4.113865     friend's\n6     -2.671075   6.280012      hanging\n7     -8.578102   2.872470  electricity\n8     -5.045470  -0.142866         lord\n9    -10.920730  -0.617917      shaving\n10    -9.465813   0.125165       callin\n11    -4.542277   2.504884    screaming\n12     0.952688   5.277322        prize\n13    -0.318385  -6.135655    wednesday\n14    -8.672418  -1.018768         oooo\n15    -5.236122  -0.606604         oooh\n16    -9.506723   0.335415    commented\n17    -7.249676  -5.185357        tired\n18    -4.435387   5.190530        bacon\n19    -9.286023   3.107189        tires\n20    -3.610883  -5.043841       second\n21    -7.537213   3.401917       errors\n22    -6.617863  -2.030867   forgetting\n23    -3.185457   1.379782      thunder\n24    -3.310678  -1.816466      cooking\n25     2.257232   0.043720      fingers\n26    -3.720881   3.790598         hero\n27    -1.282604  -3.008822         here\n28    -2.306481   5.844069        china\n29    -3.374600   5.219671         dorm\n...         ...        ...          ...\n4970  -7.391440   2.782273    developed\n4971  -6.250766   6.075571      mission\n4972  -8.668243   1.366179     disabled\n4973  -1.735292  -1.197211         isnt\n4974  -6.017562   5.292372        style\n4975  -2.383329   0.451085         pray\n4976  -7.806514   0.601385      beyonce\n4977 -11.134445   1.468518       resort\n4978  -3.705911   8.134075        parts\n4979  -5.000881   0.741003      stephen\n4980 -10.389879  -0.444903    argentina\n4981  -1.910284   7.259809       soccer\n4982  -3.332029  -4.107353        might\n4983  -0.291040  10.264339       return\n4984  -5.056112   0.917322      sucking\n4985  -5.828812  -3.445912       woulda\n4986  -6.228328   3.334799       bigger\n4987  -9.546696  -1.276027   friendship\n4988 -12.204627   2.033613      pirates\n4989  -4.976586   4.328150       weight\n4990  -3.288270   0.886810        peeps\n4991   2.402934   1.389978      brother\n4992  -7.725077  -3.395801       expect\n4993  -6.593326   0.079286       prolly\n4994  -4.680462   4.307576      alcohol\n4995  -5.974028   1.959871       health\n4996  -2.370150   7.780239         hill\n4997  -3.891291   7.375233     premiere\n4998  -6.590682  -0.117139         lolz\n4999   3.014175  -4.662949       friday\n\n[5000 rows x 3 columns] of type DataFrame",
     "output_type": "error",
     "traceback": [
      "\u001b[0;31m---------------------------------------------------------------------------\u001b[0m",
      "\u001b[0;31mValueError\u001b[0m                                Traceback (most recent call last)",
      "\u001b[0;32m<ipython-input-13-022f62a30c33>\u001b[0m in \u001b[0;36m<module>\u001b[0;34m()\u001b[0m\n\u001b[1;32m     23\u001b[0m \u001b[0;34m\u001b[0m\u001b[0m\n\u001b[1;32m     24\u001b[0m \u001b[0;31m# plotting. the corresponding word appears when you hover on the data point.\u001b[0m\u001b[0;34m\u001b[0m\u001b[0;34m\u001b[0m\u001b[0m\n\u001b[0;32m---> 25\u001b[0;31m \u001b[0mplot_tfidf\u001b[0m\u001b[0;34m.\u001b[0m\u001b[0mscatter\u001b[0m\u001b[0;34m(\u001b[0m\u001b[0mx\u001b[0m\u001b[0;34m=\u001b[0m\u001b[0;34m'x'\u001b[0m\u001b[0;34m,\u001b[0m \u001b[0my\u001b[0m\u001b[0;34m=\u001b[0m\u001b[0;34m'y'\u001b[0m\u001b[0;34m,\u001b[0m \u001b[0msource\u001b[0m\u001b[0;34m=\u001b[0m\u001b[0mtsne_df\u001b[0m\u001b[0;34m)\u001b[0m\u001b[0;34m\u001b[0m\u001b[0m\n\u001b[0m\u001b[1;32m     26\u001b[0m \u001b[0mhover\u001b[0m \u001b[0;34m=\u001b[0m \u001b[0mplot_tfidf\u001b[0m\u001b[0;34m.\u001b[0m\u001b[0mselect\u001b[0m\u001b[0;34m(\u001b[0m\u001b[0mdict\u001b[0m\u001b[0;34m(\u001b[0m\u001b[0mtype\u001b[0m\u001b[0;34m=\u001b[0m\u001b[0mHoverTool\u001b[0m\u001b[0;34m)\u001b[0m\u001b[0;34m)\u001b[0m\u001b[0;34m\u001b[0m\u001b[0m\n\u001b[1;32m     27\u001b[0m \u001b[0mhover\u001b[0m\u001b[0;34m.\u001b[0m\u001b[0mtooltips\u001b[0m\u001b[0;34m=\u001b[0m\u001b[0;34m{\u001b[0m\u001b[0;34m\"word\"\u001b[0m\u001b[0;34m:\u001b[0m \u001b[0;34m\"@words\"\u001b[0m\u001b[0;34m}\u001b[0m\u001b[0;34m\u001b[0m\u001b[0m\n",
      "\u001b[0;32m/home/allan/anaconda2/lib/python2.7/site-packages/bokeh/plotting/figure.pyc\u001b[0m in \u001b[0;36mscatter\u001b[0;34m(self, *args, **kwargs)\u001b[0m\n\u001b[1;32m    558\u001b[0m             \u001b[0mmarkertype\u001b[0m \u001b[0;34m=\u001b[0m \u001b[0mconversions\u001b[0m\u001b[0;34m[\u001b[0m\u001b[0mmarkertype\u001b[0m\u001b[0;34m]\u001b[0m\u001b[0;34m\u001b[0m\u001b[0m\n\u001b[1;32m    559\u001b[0m \u001b[0;34m\u001b[0m\u001b[0m\n\u001b[0;32m--> 560\u001b[0;31m         \u001b[0;32mreturn\u001b[0m \u001b[0mgetattr\u001b[0m\u001b[0;34m(\u001b[0m\u001b[0mself\u001b[0m\u001b[0;34m,\u001b[0m \u001b[0mmarkertype\u001b[0m\u001b[0;34m)\u001b[0m\u001b[0;34m(\u001b[0m\u001b[0;34m*\u001b[0m\u001b[0margs\u001b[0m\u001b[0;34m,\u001b[0m \u001b[0;34m**\u001b[0m\u001b[0mkwargs\u001b[0m\u001b[0;34m)\u001b[0m\u001b[0;34m\u001b[0m\u001b[0m\n\u001b[0m\u001b[1;32m    561\u001b[0m \u001b[0;34m\u001b[0m\u001b[0m\n\u001b[1;32m    562\u001b[0m \u001b[0;34m\u001b[0m\u001b[0m\n",
      "\u001b[0;32m/home/allan/anaconda2/lib/python2.7/site-packages/bokeh/plotting/helpers.pyc\u001b[0m in \u001b[0;36mfunc\u001b[0;34m(self, *args, **kwargs)\u001b[0m\n\u001b[1;32m    431\u001b[0m                                        \u001b[0mselection_glyph\u001b[0m\u001b[0;34m=\u001b[0m\u001b[0msglyph\u001b[0m\u001b[0;34m,\u001b[0m\u001b[0;34m\u001b[0m\u001b[0m\n\u001b[1;32m    432\u001b[0m                                        \u001b[0mhover_glyph\u001b[0m\u001b[0;34m=\u001b[0m\u001b[0mhglyph\u001b[0m\u001b[0;34m,\u001b[0m\u001b[0;34m\u001b[0m\u001b[0m\n\u001b[0;32m--> 433\u001b[0;31m                                        **renderer_kws)\n\u001b[0m\u001b[1;32m    434\u001b[0m \u001b[0;34m\u001b[0m\u001b[0m\n\u001b[1;32m    435\u001b[0m         \u001b[0;32mif\u001b[0m \u001b[0mlegend_name\u001b[0m\u001b[0;34m:\u001b[0m\u001b[0;34m\u001b[0m\u001b[0m\n",
      "\u001b[0;32m/home/allan/anaconda2/lib/python2.7/site-packages/bokeh/model.pyc\u001b[0m in \u001b[0;36m__init__\u001b[0;34m(self, **kwargs)\u001b[0m\n\u001b[1;32m     83\u001b[0m         \u001b[0mself\u001b[0m\u001b[0;34m.\u001b[0m\u001b[0m_id\u001b[0m \u001b[0;34m=\u001b[0m \u001b[0mkwargs\u001b[0m\u001b[0;34m.\u001b[0m\u001b[0mpop\u001b[0m\u001b[0;34m(\u001b[0m\u001b[0;34m\"id\"\u001b[0m\u001b[0;34m,\u001b[0m \u001b[0mmake_id\u001b[0m\u001b[0;34m(\u001b[0m\u001b[0;34m)\u001b[0m\u001b[0;34m)\u001b[0m\u001b[0;34m\u001b[0m\u001b[0m\n\u001b[1;32m     84\u001b[0m         \u001b[0mself\u001b[0m\u001b[0;34m.\u001b[0m\u001b[0m_document\u001b[0m \u001b[0;34m=\u001b[0m \u001b[0mNone\u001b[0m\u001b[0;34m\u001b[0m\u001b[0m\n\u001b[0;32m---> 85\u001b[0;31m         \u001b[0msuper\u001b[0m\u001b[0;34m(\u001b[0m\u001b[0mModel\u001b[0m\u001b[0;34m,\u001b[0m \u001b[0mself\u001b[0m\u001b[0;34m)\u001b[0m\u001b[0;34m.\u001b[0m\u001b[0m__init__\u001b[0m\u001b[0;34m(\u001b[0m\u001b[0;34m**\u001b[0m\u001b[0mkwargs\u001b[0m\u001b[0;34m)\u001b[0m\u001b[0;34m\u001b[0m\u001b[0m\n\u001b[0m\u001b[1;32m     86\u001b[0m         \u001b[0mdefault_theme\u001b[0m\u001b[0;34m.\u001b[0m\u001b[0mapply_to_model\u001b[0m\u001b[0;34m(\u001b[0m\u001b[0mself\u001b[0m\u001b[0;34m)\u001b[0m\u001b[0;34m\u001b[0m\u001b[0m\n\u001b[1;32m     87\u001b[0m \u001b[0;34m\u001b[0m\u001b[0m\n",
      "\u001b[0;32m/home/allan/anaconda2/lib/python2.7/site-packages/bokeh/core/properties.pyc\u001b[0m in \u001b[0;36m__init__\u001b[0;34m(self, **properties)\u001b[0m\n\u001b[1;32m    701\u001b[0m \u001b[0;34m\u001b[0m\u001b[0m\n\u001b[1;32m    702\u001b[0m         \u001b[0;32mfor\u001b[0m \u001b[0mname\u001b[0m\u001b[0;34m,\u001b[0m \u001b[0mvalue\u001b[0m \u001b[0;32min\u001b[0m \u001b[0mproperties\u001b[0m\u001b[0;34m.\u001b[0m\u001b[0mitems\u001b[0m\u001b[0;34m(\u001b[0m\u001b[0;34m)\u001b[0m\u001b[0;34m:\u001b[0m\u001b[0;34m\u001b[0m\u001b[0m\n\u001b[0;32m--> 703\u001b[0;31m             \u001b[0msetattr\u001b[0m\u001b[0;34m(\u001b[0m\u001b[0mself\u001b[0m\u001b[0;34m,\u001b[0m \u001b[0mname\u001b[0m\u001b[0;34m,\u001b[0m \u001b[0mvalue\u001b[0m\u001b[0;34m)\u001b[0m\u001b[0;34m\u001b[0m\u001b[0m\n\u001b[0m\u001b[1;32m    704\u001b[0m \u001b[0;34m\u001b[0m\u001b[0m\n\u001b[1;32m    705\u001b[0m     \u001b[0;32mdef\u001b[0m \u001b[0m__setattr__\u001b[0m\u001b[0;34m(\u001b[0m\u001b[0mself\u001b[0m\u001b[0;34m,\u001b[0m \u001b[0mname\u001b[0m\u001b[0;34m,\u001b[0m \u001b[0mvalue\u001b[0m\u001b[0;34m)\u001b[0m\u001b[0;34m:\u001b[0m\u001b[0;34m\u001b[0m\u001b[0m\n",
      "\u001b[0;32m/home/allan/anaconda2/lib/python2.7/site-packages/bokeh/core/properties.pyc\u001b[0m in \u001b[0;36m__setattr__\u001b[0;34m(self, name, value)\u001b[0m\n\u001b[1;32m    714\u001b[0m \u001b[0;34m\u001b[0m\u001b[0m\n\u001b[1;32m    715\u001b[0m         \u001b[0;32mif\u001b[0m \u001b[0mname\u001b[0m \u001b[0;32min\u001b[0m \u001b[0mprops\u001b[0m \u001b[0;32mor\u001b[0m \u001b[0mname\u001b[0m \u001b[0;32min\u001b[0m \u001b[0mdeprecated\u001b[0m\u001b[0;34m:\u001b[0m\u001b[0;34m\u001b[0m\u001b[0m\n\u001b[0;32m--> 716\u001b[0;31m             \u001b[0msuper\u001b[0m\u001b[0;34m(\u001b[0m\u001b[0mHasProps\u001b[0m\u001b[0;34m,\u001b[0m \u001b[0mself\u001b[0m\u001b[0;34m)\u001b[0m\u001b[0;34m.\u001b[0m\u001b[0m__setattr__\u001b[0m\u001b[0;34m(\u001b[0m\u001b[0mname\u001b[0m\u001b[0;34m,\u001b[0m \u001b[0mvalue\u001b[0m\u001b[0;34m)\u001b[0m\u001b[0;34m\u001b[0m\u001b[0m\n\u001b[0m\u001b[1;32m    717\u001b[0m         \u001b[0;32melse\u001b[0m\u001b[0;34m:\u001b[0m\u001b[0;34m\u001b[0m\u001b[0m\n\u001b[1;32m    718\u001b[0m             \u001b[0mmatches\u001b[0m\u001b[0;34m,\u001b[0m \u001b[0mtext\u001b[0m \u001b[0;34m=\u001b[0m \u001b[0mdifflib\u001b[0m\u001b[0;34m.\u001b[0m\u001b[0mget_close_matches\u001b[0m\u001b[0;34m(\u001b[0m\u001b[0mname\u001b[0m\u001b[0;34m.\u001b[0m\u001b[0mlower\u001b[0m\u001b[0;34m(\u001b[0m\u001b[0;34m)\u001b[0m\u001b[0;34m,\u001b[0m \u001b[0mprops\u001b[0m\u001b[0;34m)\u001b[0m\u001b[0;34m,\u001b[0m \u001b[0;34m\"similar\"\u001b[0m\u001b[0;34m\u001b[0m\u001b[0m\n",
      "\u001b[0;32m/home/allan/anaconda2/lib/python2.7/site-packages/bokeh/core/properties.pyc\u001b[0m in \u001b[0;36m__set__\u001b[0;34m(self, obj, value)\u001b[0m\n\u001b[1;32m    453\u001b[0m             raise RuntimeError(\"Cannot set a property value '%s' on a %s instance before HasProps.__init__\" %\n\u001b[1;32m    454\u001b[0m                                (self.name, obj.__class__.__name__))\n\u001b[0;32m--> 455\u001b[0;31m         \u001b[0mvalue\u001b[0m \u001b[0;34m=\u001b[0m \u001b[0mself\u001b[0m\u001b[0;34m.\u001b[0m\u001b[0mdescriptor\u001b[0m\u001b[0;34m.\u001b[0m\u001b[0mprepare_value\u001b[0m\u001b[0;34m(\u001b[0m\u001b[0mobj\u001b[0m\u001b[0;34m.\u001b[0m\u001b[0m__class__\u001b[0m\u001b[0;34m,\u001b[0m \u001b[0mself\u001b[0m\u001b[0;34m.\u001b[0m\u001b[0mname\u001b[0m\u001b[0;34m,\u001b[0m \u001b[0mvalue\u001b[0m\u001b[0;34m)\u001b[0m\u001b[0;34m\u001b[0m\u001b[0m\n\u001b[0m\u001b[1;32m    456\u001b[0m \u001b[0;34m\u001b[0m\u001b[0m\n\u001b[1;32m    457\u001b[0m         \u001b[0mold\u001b[0m \u001b[0;34m=\u001b[0m \u001b[0mself\u001b[0m\u001b[0;34m.\u001b[0m\u001b[0m__get__\u001b[0m\u001b[0;34m(\u001b[0m\u001b[0mobj\u001b[0m\u001b[0;34m)\u001b[0m\u001b[0;34m\u001b[0m\u001b[0m\n",
      "\u001b[0;32m/home/allan/anaconda2/lib/python2.7/site-packages/bokeh/core/properties.pyc\u001b[0m in \u001b[0;36mprepare_value\u001b[0;34m(self, cls, name, value)\u001b[0m\n\u001b[1;32m    270\u001b[0m                     \u001b[0;32mbreak\u001b[0m\u001b[0;34m\u001b[0m\u001b[0m\n\u001b[1;32m    271\u001b[0m             \u001b[0;32melse\u001b[0m\u001b[0;34m:\u001b[0m\u001b[0;34m\u001b[0m\u001b[0m\n\u001b[0;32m--> 272\u001b[0;31m                 \u001b[0;32mraise\u001b[0m \u001b[0me\u001b[0m\u001b[0;34m\u001b[0m\u001b[0m\n\u001b[0m\u001b[1;32m    273\u001b[0m         \u001b[0;32melse\u001b[0m\u001b[0;34m:\u001b[0m\u001b[0;34m\u001b[0m\u001b[0m\n\u001b[1;32m    274\u001b[0m             \u001b[0mvalue\u001b[0m \u001b[0;34m=\u001b[0m \u001b[0mself\u001b[0m\u001b[0;34m.\u001b[0m\u001b[0mtransform\u001b[0m\u001b[0;34m(\u001b[0m\u001b[0mvalue\u001b[0m\u001b[0;34m)\u001b[0m\u001b[0;34m\u001b[0m\u001b[0m\n",
      "\u001b[0;31mValueError\u001b[0m: expected an instance of type DataSource, got               x          y        words\n0     -9.082752  -5.392836      raining\n1     -4.783958   4.620254       yellow\n2     -3.205264  -6.151708         four\n3     -9.916620   3.989376        woods\n4     -8.508235  -1.975228      spiders\n5     -3.356022   4.113865     friend's\n6     -2.671075   6.280012      hanging\n7     -8.578102   2.872470  electricity\n8     -5.045470  -0.142866         lord\n9    -10.920730  -0.617917      shaving\n10    -9.465813   0.125165       callin\n11    -4.542277   2.504884    screaming\n12     0.952688   5.277322        prize\n13    -0.318385  -6.135655    wednesday\n14    -8.672418  -1.018768         oooo\n15    -5.236122  -0.606604         oooh\n16    -9.506723   0.335415    commented\n17    -7.249676  -5.185357        tired\n18    -4.435387   5.190530        bacon\n19    -9.286023   3.107189        tires\n20    -3.610883  -5.043841       second\n21    -7.537213   3.401917       errors\n22    -6.617863  -2.030867   forgetting\n23    -3.185457   1.379782      thunder\n24    -3.310678  -1.816466      cooking\n25     2.257232   0.043720      fingers\n26    -3.720881   3.790598         hero\n27    -1.282604  -3.008822         here\n28    -2.306481   5.844069        china\n29    -3.374600   5.219671         dorm\n...         ...        ...          ...\n4970  -7.391440   2.782273    developed\n4971  -6.250766   6.075571      mission\n4972  -8.668243   1.366179     disabled\n4973  -1.735292  -1.197211         isnt\n4974  -6.017562   5.292372        style\n4975  -2.383329   0.451085         pray\n4976  -7.806514   0.601385      beyonce\n4977 -11.134445   1.468518       resort\n4978  -3.705911   8.134075        parts\n4979  -5.000881   0.741003      stephen\n4980 -10.389879  -0.444903    argentina\n4981  -1.910284   7.259809       soccer\n4982  -3.332029  -4.107353        might\n4983  -0.291040  10.264339       return\n4984  -5.056112   0.917322      sucking\n4985  -5.828812  -3.445912       woulda\n4986  -6.228328   3.334799       bigger\n4987  -9.546696  -1.276027   friendship\n4988 -12.204627   2.033613      pirates\n4989  -4.976586   4.328150       weight\n4990  -3.288270   0.886810        peeps\n4991   2.402934   1.389978      brother\n4992  -7.725077  -3.395801       expect\n4993  -6.593326   0.079286       prolly\n4994  -4.680462   4.307576      alcohol\n4995  -5.974028   1.959871       health\n4996  -2.370150   7.780239         hill\n4997  -3.891291   7.375233     premiere\n4998  -6.590682  -0.117139         lolz\n4999   3.014175  -4.662949       friday\n\n[5000 rows x 3 columns] of type DataFrame"
     ]
    }
   ],
   "source": [
    "# importing bokeh library for interactive dataviz\n",
    "import bokeh.plotting as bp\n",
    "from bokeh.models import HoverTool, BoxSelectTool\n",
    "from bokeh.plotting import figure, show, output_notebook\n",
    "\n",
    "# defining the chart\n",
    "output_notebook()\n",
    "plot_tfidf = bp.figure(plot_width=700, plot_height=600, title=\"A map of 10000 word vectors\",\n",
    "    tools=\"pan,wheel_zoom,box_zoom,reset,hover,previewsave\",\n",
    "    x_axis_type=None, y_axis_type=None, min_border=1)\n",
    "\n",
    "# getting a list of word vectors. limit to 10000. each is of 200 dimensions\n",
    "word_vectors = [tweet_w2v[w] for w in tweet_w2v.wv.vocab.keys()[:5000]]\n",
    "\n",
    "# dimensionality reduction. converting the vectors to 2d vectors\n",
    "from sklearn.manifold import TSNE\n",
    "tsne_model = TSNE(n_components=2, verbose=1, random_state=0)\n",
    "tsne_w2v = tsne_model.fit_transform(word_vectors)\n",
    "\n",
    "# putting everything in a dataframe\n",
    "tsne_df = pd.DataFrame(tsne_w2v, columns=['x', 'y'])\n",
    "tsne_df['words'] = tweet_w2v.wv.vocab.keys()[:5000]\n",
    "\n",
    "# plotting. the corresponding word appears when you hover on the data point.\n",
    "plot_tfidf.scatter(x='x', y='y', source=tsne_df)\n",
    "hover = plot_tfidf.select(dict(type=HoverTool))\n",
    "hover.tooltips={\"word\": \"@words\"}\n",
    "show(plot_tfidf)"
   ]
  },
  {
   "cell_type": "code",
   "execution_count": null,
   "metadata": {
    "collapsed": true
   },
   "outputs": [],
   "source": []
  }
 ],
 "metadata": {
  "anaconda-cloud": {},
  "kernelspec": {
   "display_name": "Python [conda root]",
   "language": "python",
   "name": "conda-root-py"
  },
  "language_info": {
   "codemirror_mode": {
    "name": "ipython",
    "version": 2
   },
   "file_extension": ".py",
   "mimetype": "text/x-python",
   "name": "python",
   "nbconvert_exporter": "python",
   "pygments_lexer": "ipython2",
   "version": "2.7.12"
  }
 },
 "nbformat": 4,
 "nbformat_minor": 1
}
